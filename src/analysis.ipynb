{
 "cells": [
  {
   "cell_type": "code",
   "execution_count": 1,
   "id": "d5e83dda",
   "metadata": {},
   "outputs": [],
   "source": [
    "import pandas as pd"
   ]
  },
  {
   "cell_type": "code",
   "execution_count": 2,
   "id": "d2256c93",
   "metadata": {},
   "outputs": [],
   "source": [
    "df = pd.read_csv(\"~/projects/opinion/data/RNXqM8vdw4M.csv\", lineterminator='\\n')"
   ]
  },
  {
   "cell_type": "code",
   "execution_count": 3,
   "id": "5c2ab7f0",
   "metadata": {},
   "outputs": [],
   "source": [
    "try:\n",
    "    df.drop(\"Unnamed: 0\", axis=1, inplace=True)\n",
    "except:\n",
    "    print(\"Already Deleted\")"
   ]
  },
  {
   "cell_type": "code",
   "execution_count": 4,
   "id": "2f3591b3",
   "metadata": {},
   "outputs": [],
   "source": [
    "df[\"date\"] = pd.to_datetime(df[\"date\"])"
   ]
  },
  {
   "cell_type": "code",
   "execution_count": 5,
   "id": "9e6dc07c",
   "metadata": {},
   "outputs": [
    {
     "name": "stdout",
     "output_type": "stream",
     "text": [
      "<class 'pandas.core.frame.DataFrame'>\n",
      "RangeIndex: 12147 entries, 0 to 12146\n",
      "Data columns (total 5 columns):\n",
      " #   Column   Non-Null Count  Dtype              \n",
      "---  ------   --------------  -----              \n",
      " 0   date     12147 non-null  datetime64[ns, UTC]\n",
      " 1   name     12147 non-null  object             \n",
      " 2   comment  11953 non-null  object             \n",
      " 3   like     12147 non-null  int64              \n",
      " 4   replies  12147 non-null  int64              \n",
      "dtypes: datetime64[ns, UTC](1), int64(2), object(2)\n",
      "memory usage: 474.6+ KB\n"
     ]
    }
   ],
   "source": [
    "df.info()"
   ]
  },
  {
   "cell_type": "code",
   "execution_count": 6,
   "id": "01ff6293",
   "metadata": {},
   "outputs": [
    {
     "name": "stdout",
     "output_type": "stream",
     "text": [
      "Defaulting to user installation because normal site-packages is not writeable\n",
      "Requirement already satisfied: nltk in /home/someone/.local/lib/python3.10/site-packages (3.8.1)\n",
      "Requirement already satisfied: tqdm in /home/someone/.local/lib/python3.10/site-packages (from nltk) (4.66.1)\n",
      "Requirement already satisfied: joblib in /home/someone/.local/lib/python3.10/site-packages (from nltk) (1.3.2)\n",
      "Requirement already satisfied: click in /usr/lib/python3/dist-packages (from nltk) (8.0.3)\n",
      "Requirement already satisfied: regex>=2021.8.3 in /home/someone/.local/lib/python3.10/site-packages (from nltk) (2023.10.3)\n"
     ]
    }
   ],
   "source": [
    "!pip install nltk"
   ]
  },
  {
   "cell_type": "code",
   "execution_count": 7,
   "id": "94535488",
   "metadata": {},
   "outputs": [
    {
     "name": "stderr",
     "output_type": "stream",
     "text": [
      "/usr/lib/python3/dist-packages/scipy/__init__.py:146: UserWarning: A NumPy version >=1.17.3 and <1.25.0 is required for this version of SciPy (detected version 1.26.2\n",
      "  warnings.warn(f\"A NumPy version >={np_minversion} and <{np_maxversion}\"\n"
     ]
    }
   ],
   "source": [
    "import nltk\n",
    "#nltk.download('vader_lexicon')\n",
    "#nltk.download('punkt')"
   ]
  },
  {
   "cell_type": "code",
   "execution_count": 8,
   "id": "4d4d3c06",
   "metadata": {},
   "outputs": [],
   "source": [
    "from nltk.sentiment.vader import SentimentIntensityAnalyzer\n",
    "sid = SentimentIntensityAnalyzer()"
   ]
  },
  {
   "cell_type": "code",
   "execution_count": 9,
   "id": "e8ee02a7",
   "metadata": {},
   "outputs": [],
   "source": [
    "df.dropna(inplace=True)"
   ]
  },
  {
   "cell_type": "code",
   "execution_count": 27,
   "id": "ca59a14e",
   "metadata": {},
   "outputs": [],
   "source": [
    "neg = []\n",
    "pos = []\n",
    "comp = []\n",
    "neu = []\n",
    "\n",
    "\n",
    "for x in df[\"comment\"]:\n",
    "    score = sid.polarity_scores(x)\n",
    "    comp += [ score[\"compound\"] ]\n",
    "    neu += [ score[\"neu\"] ]\n",
    "    pos += [ score[\"pos\"] ]\n",
    "    neg += [ score[\"neg\"] ]\n",
    "\n",
    "\n",
    "df[\"score_neg\"] = neg\n",
    "df[\"score_pos\"] = pos\n",
    "df[\"score_neu\"] = neu\n",
    "df[\"score_comp\"] = comp\n",
    "                                                                              "
   ]
  },
  {
   "cell_type": "code",
   "execution_count": 58,
   "id": "98a01175",
   "metadata": {},
   "outputs": [
    {
     "data": {
      "text/html": [
       "<div>\n",
       "<style scoped>\n",
       "    .dataframe tbody tr th:only-of-type {\n",
       "        vertical-align: middle;\n",
       "    }\n",
       "\n",
       "    .dataframe tbody tr th {\n",
       "        vertical-align: top;\n",
       "    }\n",
       "\n",
       "    .dataframe thead th {\n",
       "        text-align: right;\n",
       "    }\n",
       "</style>\n",
       "<table border=\"1\" class=\"dataframe\">\n",
       "  <thead>\n",
       "    <tr style=\"text-align: right;\">\n",
       "      <th></th>\n",
       "      <th>date</th>\n",
       "      <th>name</th>\n",
       "      <th>comment</th>\n",
       "      <th>like</th>\n",
       "      <th>replies</th>\n",
       "      <th>score_neg</th>\n",
       "      <th>score_pos</th>\n",
       "      <th>score_neu</th>\n",
       "      <th>score_comp</th>\n",
       "    </tr>\n",
       "  </thead>\n",
       "  <tbody>\n",
       "    <tr>\n",
       "      <th>6988</th>\n",
       "      <td>2023-05-06 10:32:32+00:00</td>\n",
       "      <td>@thomasthomasphilp4393</td>\n",
       "      <td>I am a Kerala Christian. He is absolutely correct</td>\n",
       "      <td>5649</td>\n",
       "      <td>120</td>\n",
       "      <td>0.000</td>\n",
       "      <td>0.000</td>\n",
       "      <td>1.000</td>\n",
       "      <td>0.0000</td>\n",
       "    </tr>\n",
       "    <tr>\n",
       "      <th>9633</th>\n",
       "      <td>2023-05-05 19:08:45+00:00</td>\n",
       "      <td>@supersaiyan3704</td>\n",
       "      <td>Being a Malayali I can totally vouch for what ...</td>\n",
       "      <td>5073</td>\n",
       "      <td>255</td>\n",
       "      <td>0.000</td>\n",
       "      <td>0.000</td>\n",
       "      <td>1.000</td>\n",
       "      <td>0.0000</td>\n",
       "    </tr>\n",
       "    <tr>\n",
       "      <th>5806</th>\n",
       "      <td>2023-05-07 07:11:27+00:00</td>\n",
       "      <td>@ck3289</td>\n",
       "      <td>I am an ex -christian and this single video ha...</td>\n",
       "      <td>3935</td>\n",
       "      <td>56</td>\n",
       "      <td>0.000</td>\n",
       "      <td>0.173</td>\n",
       "      <td>0.827</td>\n",
       "      <td>0.7424</td>\n",
       "    </tr>\n",
       "    <tr>\n",
       "      <th>12143</th>\n",
       "      <td>2023-05-05 15:31:03+00:00</td>\n",
       "      <td>@cosmosloungerelaxationmusi2679</td>\n",
       "      <td>AMAZZZZZZZZZINNNNNNNGGGGGGGGGGGG JAI SAI DEEPAK</td>\n",
       "      <td>3756</td>\n",
       "      <td>41</td>\n",
       "      <td>0.000</td>\n",
       "      <td>0.000</td>\n",
       "      <td>1.000</td>\n",
       "      <td>0.0000</td>\n",
       "    </tr>\n",
       "    <tr>\n",
       "      <th>11994</th>\n",
       "      <td>2023-05-05 15:42:31+00:00</td>\n",
       "      <td>@dhruba5849</td>\n",
       "      <td>J Sai Deepak Sir has opened my eyes.  I never ...</td>\n",
       "      <td>3326</td>\n",
       "      <td>171</td>\n",
       "      <td>0.000</td>\n",
       "      <td>0.071</td>\n",
       "      <td>0.929</td>\n",
       "      <td>0.2455</td>\n",
       "    </tr>\n",
       "    <tr>\n",
       "      <th>...</th>\n",
       "      <td>...</td>\n",
       "      <td>...</td>\n",
       "      <td>...</td>\n",
       "      <td>...</td>\n",
       "      <td>...</td>\n",
       "      <td>...</td>\n",
       "      <td>...</td>\n",
       "      <td>...</td>\n",
       "      <td>...</td>\n",
       "    </tr>\n",
       "    <tr>\n",
       "      <th>7083</th>\n",
       "      <td>2023-05-06 09:46:51+00:00</td>\n",
       "      <td>@kiranrajpurohit7307</td>\n",
       "      <td>OMG! it's J Sai Deepak in the house, The Rocks...</td>\n",
       "      <td>0</td>\n",
       "      <td>0</td>\n",
       "      <td>0.000</td>\n",
       "      <td>0.000</td>\n",
       "      <td>1.000</td>\n",
       "      <td>0.0000</td>\n",
       "    </tr>\n",
       "    <tr>\n",
       "      <th>7082</th>\n",
       "      <td>2023-05-06 09:47:46+00:00</td>\n",
       "      <td>@FaheemRazaAnsari</td>\n",
       "      <td>I'm not a supporter of any right or left or ce...</td>\n",
       "      <td>0</td>\n",
       "      <td>0</td>\n",
       "      <td>0.088</td>\n",
       "      <td>0.118</td>\n",
       "      <td>0.794</td>\n",
       "      <td>0.9334</td>\n",
       "    </tr>\n",
       "    <tr>\n",
       "      <th>1800</th>\n",
       "      <td>2023-06-30 09:44:54+00:00</td>\n",
       "      <td>@spirited__</td>\n",
       "      <td>What an episode</td>\n",
       "      <td>0</td>\n",
       "      <td>0</td>\n",
       "      <td>0.000</td>\n",
       "      <td>0.000</td>\n",
       "      <td>1.000</td>\n",
       "      <td>0.0000</td>\n",
       "    </tr>\n",
       "    <tr>\n",
       "      <th>3603</th>\n",
       "      <td>2023-05-13 17:43:25+00:00</td>\n",
       "      <td>@rajendrakhadye8783</td>\n",
       "      <td>J sai deepak sir ka hindi main broadcast karol...</td>\n",
       "      <td>0</td>\n",
       "      <td>0</td>\n",
       "      <td>0.000</td>\n",
       "      <td>0.000</td>\n",
       "      <td>1.000</td>\n",
       "      <td>0.0000</td>\n",
       "    </tr>\n",
       "    <tr>\n",
       "      <th>8272</th>\n",
       "      <td>2023-05-06 03:32:23+00:00</td>\n",
       "      <td>@yaswanthreddygarugu9156</td>\n",
       "      <td>we need one more podcost on decoloniality</td>\n",
       "      <td>0</td>\n",
       "      <td>0</td>\n",
       "      <td>0.000</td>\n",
       "      <td>0.000</td>\n",
       "      <td>1.000</td>\n",
       "      <td>0.0000</td>\n",
       "    </tr>\n",
       "  </tbody>\n",
       "</table>\n",
       "<p>11953 rows × 9 columns</p>\n",
       "</div>"
      ],
      "text/plain": [
       "                           date                             name  \\\n",
       "6988  2023-05-06 10:32:32+00:00           @thomasthomasphilp4393   \n",
       "9633  2023-05-05 19:08:45+00:00                 @supersaiyan3704   \n",
       "5806  2023-05-07 07:11:27+00:00                          @ck3289   \n",
       "12143 2023-05-05 15:31:03+00:00  @cosmosloungerelaxationmusi2679   \n",
       "11994 2023-05-05 15:42:31+00:00                      @dhruba5849   \n",
       "...                         ...                              ...   \n",
       "7083  2023-05-06 09:46:51+00:00             @kiranrajpurohit7307   \n",
       "7082  2023-05-06 09:47:46+00:00                @FaheemRazaAnsari   \n",
       "1800  2023-06-30 09:44:54+00:00                      @spirited__   \n",
       "3603  2023-05-13 17:43:25+00:00              @rajendrakhadye8783   \n",
       "8272  2023-05-06 03:32:23+00:00         @yaswanthreddygarugu9156   \n",
       "\n",
       "                                                 comment  like  replies  \\\n",
       "6988   I am a Kerala Christian. He is absolutely correct  5649      120   \n",
       "9633   Being a Malayali I can totally vouch for what ...  5073      255   \n",
       "5806   I am an ex -christian and this single video ha...  3935       56   \n",
       "12143    AMAZZZZZZZZZINNNNNNNGGGGGGGGGGGG JAI SAI DEEPAK  3756       41   \n",
       "11994  J Sai Deepak Sir has opened my eyes.  I never ...  3326      171   \n",
       "...                                                  ...   ...      ...   \n",
       "7083   OMG! it's J Sai Deepak in the house, The Rocks...     0        0   \n",
       "7082   I'm not a supporter of any right or left or ce...     0        0   \n",
       "1800                                    What an episode      0        0   \n",
       "3603   J sai deepak sir ka hindi main broadcast karol...     0        0   \n",
       "8272           we need one more podcost on decoloniality     0        0   \n",
       "\n",
       "       score_neg  score_pos  score_neu  score_comp  \n",
       "6988       0.000      0.000      1.000      0.0000  \n",
       "9633       0.000      0.000      1.000      0.0000  \n",
       "5806       0.000      0.173      0.827      0.7424  \n",
       "12143      0.000      0.000      1.000      0.0000  \n",
       "11994      0.000      0.071      0.929      0.2455  \n",
       "...          ...        ...        ...         ...  \n",
       "7083       0.000      0.000      1.000      0.0000  \n",
       "7082       0.088      0.118      0.794      0.9334  \n",
       "1800       0.000      0.000      1.000      0.0000  \n",
       "3603       0.000      0.000      1.000      0.0000  \n",
       "8272       0.000      0.000      1.000      0.0000  \n",
       "\n",
       "[11953 rows x 9 columns]"
      ]
     },
     "execution_count": 58,
     "metadata": {},
     "output_type": "execute_result"
    }
   ],
   "source": [
    "df.sort_values(\"like\", ascending=False)"
   ]
  }
 ],
 "metadata": {
  "kernelspec": {
   "display_name": "Python 3 (ipykernel)",
   "language": "python",
   "name": "python3"
  },
  "language_info": {
   "codemirror_mode": {
    "name": "ipython",
    "version": 3
   },
   "file_extension": ".py",
   "mimetype": "text/x-python",
   "name": "python",
   "nbconvert_exporter": "python",
   "pygments_lexer": "ipython3",
   "version": "3.10.12"
  }
 },
 "nbformat": 4,
 "nbformat_minor": 5
}
